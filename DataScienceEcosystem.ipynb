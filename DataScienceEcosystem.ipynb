{
 "cells": [
  {
   "cell_type": "markdown",
   "id": "5d06c4d5-4637-4640-b424-cfcd7c5ff4c6",
   "metadata": {},
   "source": [
    "# Data Science Tools and Ecosystem"
   ]
  },
  {
   "cell_type": "markdown",
   "id": "73b38a6a-2b30-4d7a-b630-0f954a8f6b08",
   "metadata": {},
   "source": [
    "In this notebook, Data Science Tools and Ecosystem are summarized."
   ]
  },
  {
   "cell_type": "markdown",
   "id": "1b3c89c3-dd45-4b15-b302-e90b990acb13",
   "metadata": {
    "jp-MarkdownHeadingCollapsed": true,
    "tags": []
   },
   "source": [
    "Some of the popular languages that Data Scientists use are:\n",
    "\n",
    "1. **Python**\n",
    "\n",
    "2. **R*\n",
    "\n",
    "3. **SQL (Structured Query Language)**\n",
    "\n",
    "\n"
   ]
  },
  {
   "cell_type": "markdown",
   "id": "7c6f4a38-66fa-47c5-82d6-37f0bd4e1174",
   "metadata": {},
   "source": [
    "Some of the commonly used libraries used by Data Scientists include:\n",
    "\n",
    "1. **NumPy**\n",
    "\n",
    "2. **Pandas**\n",
    "\n",
    "3. **Scikit-learn**"
   ]
  },
  {
   "cell_type": "markdown",
   "id": "8a08c2f3-b1ef-4a24-a00f-658f4c8d219f",
   "metadata": {},
   "source": [
    "| Data Science Tools           |\n",
    "|------------------------------|\n",
    "| Jupyter Notebooks            |\n",
    "| RStudio                      |\n",
    "| VS Code                      |"
   ]
  },
  {
   "cell_type": "markdown",
   "id": "7f7c5b3f-d95a-44f3-a69e-b2560c6871cb",
   "metadata": {
    "tags": []
   },
   "source": [
    "### Below are a few examples of evaluating arithmetic expressions in Python"
   ]
  },
  {
   "cell_type": "code",
   "execution_count": 11,
   "id": "6afe52a3-e149-495e-82c7-69ad002e90f5",
   "metadata": {
    "tags": []
   },
   "outputs": [
    {
     "data": {
      "text/plain": [
       "17"
      ]
     },
     "execution_count": 11,
     "metadata": {},
     "output_type": "execute_result"
    }
   ],
   "source": [
    "# This is a simple arithmetic expression to multiply then add integers.\n",
    "result = (3 * 4) + 5\n",
    "result"
   ]
  },
  {
   "cell_type": "code",
   "execution_count": 12,
   "id": "2bb679b5-66a4-4857-9c78-10d470e898c0",
   "metadata": {
    "tags": []
   },
   "outputs": [
    {
     "data": {
      "text/plain": [
       "3.3333333333333335"
      ]
     },
     "execution_count": 12,
     "metadata": {},
     "output_type": "execute_result"
    }
   ],
   "source": [
    "# This will convert 200 minutes to hours by dividing by 60.\n",
    "minutes = 200\n",
    "hours = minutes / 60\n",
    "hours"
   ]
  },
  {
   "cell_type": "markdown",
   "id": "90d50c62-3b32-49a4-916f-a9be6dab5171",
   "metadata": {},
   "source": [
    "# Objectives:\n",
    "\n",
    "- **Open source tools for data science.**\n",
    "- **How to use RStudio.**\n",
    "- **How to use Github.**\n",
    "- **How to use Jupyter Notebook.**\n",
    "- **How to become a great data scientist.**\n"
   ]
  },
  {
   "cell_type": "markdown",
   "id": "bf4fed83-5e09-46ea-b088-9633658a28bb",
   "metadata": {},
   "source": [
    "## Author\n",
    "\n",
    "Aanugrah"
   ]
  }
 ],
 "metadata": {
  "kernelspec": {
   "display_name": "Python",
   "language": "python",
   "name": "conda-env-python-py"
  },
  "language_info": {
   "codemirror_mode": {
    "name": "ipython",
    "version": 3
   },
   "file_extension": ".py",
   "mimetype": "text/x-python",
   "name": "python",
   "nbconvert_exporter": "python",
   "pygments_lexer": "ipython3",
   "version": "3.7.12"
  }
 },
 "nbformat": 4,
 "nbformat_minor": 5
}
